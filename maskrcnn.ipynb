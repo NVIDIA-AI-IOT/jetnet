{
 "cells": [
  {
   "cell_type": "code",
   "execution_count": 9,
   "id": "1a184fe6",
   "metadata": {},
   "outputs": [
    {
     "name": "stderr",
     "output_type": "stream",
     "text": [
      "<ipython-input-9-8d57006ca3d0>:12: YAMLLoadWarning: calling yaml.load() without Loader=... is deprecated, as the default Loader is unsafe. Please read https://msg.pyyaml.org/load for full details.\n",
      "  root_model_index = yaml.load(f)\n",
      "<ipython-input-9-8d57006ca3d0>:18: YAMLLoadWarning: calling yaml.load() without Loader=... is deprecated, as the default Loader is unsafe. Please read https://msg.pyyaml.org/load for full details.\n",
      "  model_index = yaml.load(f)\n"
     ]
    },
    {
     "name": "stdout",
     "output_type": "stream",
     "text": [
      "load checkpoint from local path: data/mmdet/mask_rcnn_r50_caffe_fpn_1x_coco_bbox_mAP-0.38__segm_mAP-0.344_20200504_231812-0ebd1859.pth\n",
      "Optimizing... {'min': [[1, 3, 256, 320]], 'max': [[1, 3, 800, 1344]], 'opt': [[1, 3, 800, 1344]]}\n",
      "Optimizing... {'min': [[1, 256, 64, 80], [1, 512, 32, 40], [1, 1024, 16, 20], [1, 2048, 8, 10]], 'max': [[1, 256, 200, 336], [1, 512, 100, 168], [1, 1024, 50, 84], [1, 2048, 25, 42]], 'opt': [[1, 256, 200, 336], [1, 512, 100, 168], [1, 1024, 50, 84], [1, 2048, 25, 42]]}\n",
      "Optimizing... {'min': [[1, 256, 7, 7]], 'max': [[1000, 256, 7, 7]], 'opt': [[1, 256, 7, 7]]}\n",
      "Optimizing... {'min': [[1, 256, 14, 14]], 'max': [[100, 256, 14, 14]], 'opt': [[1, 256, 14, 14]]}\n"
     ]
    }
   ],
   "source": [
    "import yaml\n",
    "import os\n",
    "from mmdet.apis import init_detector, inference_detector\n",
    "from jetnet.utils import download, make_parent_dir\n",
    "from torch2trt import torch2trt\n",
    "import torch\n",
    "\n",
    "def find_mm_models(root):\n",
    "    models = []\n",
    "    root_model_index_path = os.path.join(root, 'model-index.yml')\n",
    "    with open(root_model_index_path, 'r') as f:\n",
    "        root_model_index = yaml.load(f)\n",
    "    for model_index_path in root_model_index['Import']:\n",
    "        \n",
    "        model_index_path = os.path.join(root, model_index_path)\n",
    "        \n",
    "        with open(model_index_path, 'r') as f:\n",
    "            model_index = yaml.load(f)\n",
    "        for model in model_index['Models']:\n",
    "            models.append(model)\n",
    "            \n",
    "    return models\n",
    "\n",
    "\n",
    "def find_mmdet_models():\n",
    "    return find_mm_models(os.environ['MMDET_DIR'])\n",
    "\n",
    "\n",
    "def find_mmocr_models():\n",
    "    return find_mm_models(os.environ['MMOCR_DIR'])\n",
    "\n",
    "def is_task(model, task):\n",
    "    for res in model['Results']:\n",
    "        if res['Task'] == task:\n",
    "            return True\n",
    "    return False\n",
    "    return len(list(result for result in model['Results'] if result))\n",
    "\n",
    "\n",
    "INSTANCE_SEGMENTATION = 'Instance Segmentation'\n",
    "OBJECT_DETECTION = 'Object Detection'\n",
    "\n",
    "\n",
    "def find_mmdet_instance_segmentation_models():\n",
    "    return [m for m in find_mmdet_models() if is_task(m, INSTANCE_SEGMENTATION)]\n",
    "\n",
    "\n",
    "def find_mmdet_object_detection_models():\n",
    "    return [m for m in find_mmdet_models() if is_task(m, OBJECT_DETECTION)]\n",
    "    \n",
    "def init_detector_by_name(name, mmdet_dir=None, weights_dir=\"data/mmdet\"):\n",
    "    \n",
    "    if mmdet_dir is None:\n",
    "        mmdet_dir = os.environ.get('MMDET_DIR')\n",
    "    assert mmdet_dir is not None\n",
    "    \n",
    "    model = next(model for model in find_mmdet_models() if model['Name'] == name)\n",
    "    config = os.path.join(os.environ['MMDET_DIR'], model['Config'])\n",
    "    weights_url = model['Weights']\n",
    "    weights_path = os.path.join(weights_dir, os.path.basename(weights_url))\n",
    "    if not os.path.exists(weights_path):\n",
    "        make_parent_dir(weights_path)\n",
    "        download(weights_url, weights_path)\n",
    "    \n",
    "    return init_detector(config, weights_path)\n",
    "\n",
    "def get_feat_strides(cfg):\n",
    "    return cfg['model']['roi_head']['bbox_roi_extractor']['featmap_strides']\n",
    "\n",
    "def get_neck_input_shapes(cfg, shape):\n",
    "    height, width = shape\n",
    "    strides = get_feat_strides(cfg)\n",
    "    in_channels = cfg['model']['neck']['in_channels']\n",
    "    return [[1, ic, height // s, width // s] for ic, s in zip(in_channels, strides)]\n",
    "\n",
    "def get_bbox_max_input_shapes(cfg):\n",
    "    roi_size = det.cfg['model']['roi_head']['bbox_head']['roi_feat_size']\n",
    "    in_channels = det.cfg['model']['roi_head']['bbox_head']['in_channels']\n",
    "    max_count = det.cfg['model']['test_cfg']['rpn']['max_per_img']\n",
    "    return [[max_count, in_channels, roi_size, roi_size]]\n",
    "\n",
    "def get_bbox_min_input_shapes(cfg):\n",
    "    shape = get_bbox_max_input_shapes(cfg)\n",
    "    shape[0][0] = 1\n",
    "    return shape\n",
    "\n",
    "def get_mask_max_input_shapes(cfg):\n",
    "    max_count = det.cfg['model']['test_cfg']['rcnn']['max_per_img']\n",
    "    roi_size = det.cfg['model']['roi_head']['mask_roi_extractor']['roi_layer']['output_size']\n",
    "    in_channels = det.cfg['model']['roi_head']['mask_head']['in_channels']\n",
    "    return [[max_count, in_channels, roi_size, roi_size]]\n",
    "\n",
    "def get_mask_min_input_shapes(cfg):\n",
    "    shape = get_mask_max_input_shapes(cfg)\n",
    "    shape[0][0] = 1\n",
    "    return shape\n",
    "\n",
    "def get_shapes(cfg, min_shape, max_shape, opt_shape):\n",
    "    min_shape = list(min_shape)\n",
    "    max_shape = list(max_shape)\n",
    "    opt_shape = list(opt_shape)\n",
    "    shapes = {\n",
    "        'bbox': {\n",
    "            'min': get_bbox_min_input_shapes(cfg),\n",
    "            'max': get_bbox_max_input_shapes(cfg),\n",
    "            'opt': get_bbox_min_input_shapes(cfg)\n",
    "        },\n",
    "        'neck': {\n",
    "            'min': get_neck_input_shapes(cfg, min_shape),\n",
    "            'max': get_neck_input_shapes(cfg, max_shape),\n",
    "            'opt': get_neck_input_shapes(cfg, opt_shape)\n",
    "        },\n",
    "        'backbone': {\n",
    "            'min': [[1, 3] + min_shape],\n",
    "            'max': [[1, 3] + max_shape],\n",
    "            'opt': [[1, 3] + opt_shape]\n",
    "        },\n",
    "        'mask': {\n",
    "            'min': get_mask_min_input_shapes(cfg),\n",
    "            'max': get_mask_max_input_shapes(cfg),\n",
    "            'opt': get_mask_min_input_shapes(cfg)\n",
    "        }\n",
    "    }\n",
    "    return shapes\n",
    "\n",
    "def make_inputs(desc):\n",
    "    return [torch.randn(d).cuda() for d in desc['opt']]\n",
    "\n",
    "def mmdet_mask_rcnn_build_torch2trt_modules(det, min_shape, max_shape, opt_shape, fp16_mode=False):\n",
    "    backbone = det.backbone\n",
    "    neck = det.neck\n",
    "    bbox = det.roi_head.bbox_head\n",
    "    mask = det.roi_head.mask_head\n",
    "    \n",
    "    shapes = get_shapes(det.cfg, min_shape, max_shape, opt_shape)\n",
    "    \n",
    "    def _run_torch2trt(module, desc, fp16_mode, expand=True):\n",
    "        print(f\"Optimizing... {desc}\")\n",
    "        inputs = make_inputs(desc)\n",
    "        if not expand:\n",
    "            inputs = [inputs]\n",
    "            min_shapes = [desc['min']]\n",
    "            max_shapes = [desc['max']]\n",
    "            opt_shapes = [desc['opt']]\n",
    "        else:\n",
    "            min_shapes = desc['min']\n",
    "            max_shapes = desc['max']\n",
    "            opt_shapes = desc['opt']\n",
    "            \n",
    "        return torch2trt(\n",
    "            module,\n",
    "            inputs,\n",
    "            fp16_mode=fp16_mode,\n",
    "            use_onnx=True,\n",
    "            min_shapes=min_shapes,\n",
    "            max_shapes=max_shapes,\n",
    "            opt_shapes=opt_shapes,\n",
    "            onnx_opset=11\n",
    "        )\n",
    "    \n",
    "    backbone_trt = _run_torch2trt(backbone, shapes['backbone'], fp16_mode)\n",
    "    neck_trt = _run_torch2trt(neck, shapes['neck'], fp16_mode, expand=False)\n",
    "    bbox_trt = _run_torch2trt(bbox, shapes['bbox'], fp16_mode)\n",
    "    mask_trt = _run_torch2trt(mask, shapes['mask'], fp16_mode)\n",
    "    return {\n",
    "        \"backbone\": backbone_trt,\n",
    "        \"neck\": neck_trt,\n",
    "        \"bbox\": bbox_trt,\n",
    "        \"mask\": mask_trt\n",
    "    }\n",
    "\n",
    "\n",
    "def mmdet_mask_rcnn_inject_torch2trt_modules(det, modules):\n",
    "    det.backbone = modules['backbone']\n",
    "    det.neck = modules['neck']\n",
    "    det.bbox = modules['bbox']\n",
    "    det.mask = modules['mask']\n",
    "    return det\n",
    "\n",
    "\n",
    "det = init_detector_by_name(\"mask_rcnn_r50_caffe_fpn_1x_coco\")\n",
    "\n",
    "torch2trt_modules = mmdet_mask_rcnn_build_torch2trt_modules(det, [256, 320], [800, 1344], [800, 1344], fp16_mode=True)\n"
   ]
  },
  {
   "cell_type": "code",
   "execution_count": 10,
   "id": "8f3c1630",
   "metadata": {},
   "outputs": [],
   "source": [
    "def mmdet_mask_rcnn_inject_torch2trt_modules(det, modules):\n",
    "    det.backbone = modules['backbone']\n",
    "    det.neck = modules['neck']\n",
    "    det.bbox = modules['bbox']\n",
    "    det.mask = modules['mask']\n",
    "    return det"
   ]
  },
  {
   "cell_type": "code",
   "execution_count": 11,
   "id": "6def07b2",
   "metadata": {},
   "outputs": [],
   "source": [
    "det_trt = mmdet_mask_rcnn_inject_torch2trt_modules(det, torch2trt_modules)"
   ]
  },
  {
   "cell_type": "code",
   "execution_count": 12,
   "id": "0ebeae9c",
   "metadata": {},
   "outputs": [
    {
     "name": "stderr",
     "output_type": "stream",
     "text": [
      "<ipython-input-9-8d57006ca3d0>:12: YAMLLoadWarning: calling yaml.load() without Loader=... is deprecated, as the default Loader is unsafe. Please read https://msg.pyyaml.org/load for full details.\n",
      "  root_model_index = yaml.load(f)\n",
      "<ipython-input-9-8d57006ca3d0>:18: YAMLLoadWarning: calling yaml.load() without Loader=... is deprecated, as the default Loader is unsafe. Please read https://msg.pyyaml.org/load for full details.\n",
      "  model_index = yaml.load(f)\n"
     ]
    },
    {
     "name": "stdout",
     "output_type": "stream",
     "text": [
      "load checkpoint from local path: data/mmdet/mask_rcnn_r50_caffe_fpn_1x_coco_bbox_mAP-0.38__segm_mAP-0.344_20200504_231812-0ebd1859.pth\n"
     ]
    }
   ],
   "source": [
    "det = init_detector_by_name(\"mask_rcnn_r50_caffe_fpn_1x_coco\")"
   ]
  },
  {
   "cell_type": "code",
   "execution_count": 158,
   "id": "0b05bdd6",
   "metadata": {},
   "outputs": [],
   "source": [
    "det_trt.neck.engine"
   ]
  },
  {
   "cell_type": "code",
   "execution_count": 186,
   "id": "2af5ebc0",
   "metadata": {},
   "outputs": [
    {
     "data": {
      "text/plain": [
       "[[1, 256, 200, 336], [1, 512, 100, 168], [1, 1024, 50, 84], [1, 2048, 25, 42]]"
      ]
     },
     "execution_count": 186,
     "metadata": {},
     "output_type": "execute_result"
    }
   ],
   "source": [
    "get_neck_input_shapes(det.cfg, (800, 1344))"
   ]
  },
  {
   "cell_type": "code",
   "execution_count": 7,
   "id": "9e3936f7",
   "metadata": {},
   "outputs": [],
   "source": [
    "neck_trt = torch2trt(det.neck, [[torch.randn(t).cuda() for t in get_neck_input_shapes(det.cfg, (800, 1344))]],\n",
    "    min_shapes=[[t for t in get_neck_input_shapes(det.cfg, (256, 320))]],\n",
    "    max_shapes=[[t for t in get_neck_input_shapes(det.cfg, (800, 1344))]],\n",
    "    opt_shapes=[[t for t in get_neck_input_shapes(det.cfg, (800, 1344))]],\n",
    "    use_onnx=True,\n",
    "    onnx_opset=11\n",
    ")"
   ]
  },
  {
   "cell_type": "code",
   "execution_count": 8,
   "id": "88bc1c99",
   "metadata": {},
   "outputs": [
    {
     "data": {
      "text/plain": [
       "<tensorrt.tensorrt.ICudaEngine at 0x7f7d49630fb0>"
      ]
     },
     "execution_count": 8,
     "metadata": {},
     "output_type": "execute_result"
    }
   ],
   "source": [
    "neck_trt.engine"
   ]
  },
  {
   "cell_type": "code",
   "execution_count": 192,
   "id": "00c55ca8",
   "metadata": {},
   "outputs": [],
   "source": [
    "det_trt.neck = neck_trt"
   ]
  },
  {
   "cell_type": "code",
   "execution_count": 22,
   "id": "4a4e10b4",
   "metadata": {},
   "outputs": [],
   "source": [
    "import cv2\n",
    "image = cv2.imread('assets/dog.jpg')\n"
   ]
  },
  {
   "cell_type": "code",
   "execution_count": 24,
   "id": "96f84aab",
   "metadata": {},
   "outputs": [
    {
     "name": "stdout",
     "output_type": "stream",
     "text": [
      "18.108974122227274\n"
     ]
    }
   ],
   "source": [
    "import time\n",
    "t0 = time.perf_counter()\n",
    "for i in range(100):\n",
    "    out = inference_detector(det, image)\n",
    "t1 = time.perf_counter()\n",
    "\n",
    "print(100 / (t1 - t0))"
   ]
  },
  {
   "cell_type": "code",
   "execution_count": 19,
   "id": "4963add9",
   "metadata": {},
   "outputs": [
    {
     "data": {
      "text/plain": [
       "([array([], shape=(0, 5), dtype=float32),\n",
       "  array([], shape=(0, 5), dtype=float32),\n",
       "  array([], shape=(0, 5), dtype=float32),\n",
       "  array([], shape=(0, 5), dtype=float32),\n",
       "  array([], shape=(0, 5), dtype=float32),\n",
       "  array([], shape=(0, 5), dtype=float32),\n",
       "  array([], shape=(0, 5), dtype=float32),\n",
       "  array([], shape=(0, 5), dtype=float32),\n",
       "  array([], shape=(0, 5), dtype=float32),\n",
       "  array([], shape=(0, 5), dtype=float32),\n",
       "  array([], shape=(0, 5), dtype=float32),\n",
       "  array([], shape=(0, 5), dtype=float32),\n",
       "  array([], shape=(0, 5), dtype=float32),\n",
       "  array([], shape=(0, 5), dtype=float32),\n",
       "  array([], shape=(0, 5), dtype=float32),\n",
       "  array([[8.1191345e+01, 1.1784702e+02, 6.4000000e+02, 4.2525021e+02,\n",
       "          6.5555938e-02]], dtype=float32),\n",
       "  array([[9.8559860e+01, 6.8717400e+01, 6.4000000e+02, 4.2486740e+02,\n",
       "          9.1210753e-01],\n",
       "         [1.5698442e+02, 6.7244896e+01, 4.3176617e+02, 2.8106924e+02,\n",
       "          4.4710591e-01]], dtype=float32),\n",
       "  array([], shape=(0, 5), dtype=float32),\n",
       "  array([], shape=(0, 5), dtype=float32),\n",
       "  array([], shape=(0, 5), dtype=float32),\n",
       "  array([], shape=(0, 5), dtype=float32),\n",
       "  array([[9.6449829e+01, 6.3124180e+01, 6.4000000e+02, 4.1077066e+02,\n",
       "          7.2022937e-02]], dtype=float32),\n",
       "  array([], shape=(0, 5), dtype=float32),\n",
       "  array([], shape=(0, 5), dtype=float32),\n",
       "  array([], shape=(0, 5), dtype=float32),\n",
       "  array([], shape=(0, 5), dtype=float32),\n",
       "  array([], shape=(0, 5), dtype=float32),\n",
       "  array([], shape=(0, 5), dtype=float32),\n",
       "  array([], shape=(0, 5), dtype=float32),\n",
       "  array([], shape=(0, 5), dtype=float32),\n",
       "  array([], shape=(0, 5), dtype=float32),\n",
       "  array([], shape=(0, 5), dtype=float32),\n",
       "  array([], shape=(0, 5), dtype=float32),\n",
       "  array([], shape=(0, 5), dtype=float32),\n",
       "  array([], shape=(0, 5), dtype=float32),\n",
       "  array([], shape=(0, 5), dtype=float32),\n",
       "  array([], shape=(0, 5), dtype=float32),\n",
       "  array([], shape=(0, 5), dtype=float32),\n",
       "  array([], shape=(0, 5), dtype=float32),\n",
       "  array([], shape=(0, 5), dtype=float32),\n",
       "  array([], shape=(0, 5), dtype=float32),\n",
       "  array([], shape=(0, 5), dtype=float32),\n",
       "  array([], shape=(0, 5), dtype=float32),\n",
       "  array([], shape=(0, 5), dtype=float32),\n",
       "  array([], shape=(0, 5), dtype=float32),\n",
       "  array([[7.9620922e-01, 2.7581015e+02, 5.3141048e+01, 3.4425238e+02,\n",
       "          6.7762688e-02]], dtype=float32),\n",
       "  array([], shape=(0, 5), dtype=float32),\n",
       "  array([], shape=(0, 5), dtype=float32),\n",
       "  array([], shape=(0, 5), dtype=float32),\n",
       "  array([], shape=(0, 5), dtype=float32),\n",
       "  array([], shape=(0, 5), dtype=float32),\n",
       "  array([], shape=(0, 5), dtype=float32),\n",
       "  array([], shape=(0, 5), dtype=float32),\n",
       "  array([], shape=(0, 5), dtype=float32),\n",
       "  array([], shape=(0, 5), dtype=float32),\n",
       "  array([], shape=(0, 5), dtype=float32),\n",
       "  array([], shape=(0, 5), dtype=float32),\n",
       "  array([], shape=(0, 5), dtype=float32),\n",
       "  array([], shape=(0, 5), dtype=float32),\n",
       "  array([], shape=(0, 5), dtype=float32),\n",
       "  array([], shape=(0, 5), dtype=float32),\n",
       "  array([], shape=(0, 5), dtype=float32),\n",
       "  array([], shape=(0, 5), dtype=float32),\n",
       "  array([], shape=(0, 5), dtype=float32),\n",
       "  array([], shape=(0, 5), dtype=float32),\n",
       "  array([], shape=(0, 5), dtype=float32),\n",
       "  array([], shape=(0, 5), dtype=float32),\n",
       "  array([], shape=(0, 5), dtype=float32),\n",
       "  array([], shape=(0, 5), dtype=float32),\n",
       "  array([], shape=(0, 5), dtype=float32),\n",
       "  array([], shape=(0, 5), dtype=float32),\n",
       "  array([[2.0039436e-01, 2.7956458e+02, 5.3503902e+01, 3.4321524e+02,\n",
       "          6.7710710e-01]], dtype=float32),\n",
       "  array([], shape=(0, 5), dtype=float32),\n",
       "  array([], shape=(0, 5), dtype=float32),\n",
       "  array([], shape=(0, 5), dtype=float32),\n",
       "  array([], shape=(0, 5), dtype=float32),\n",
       "  array([], shape=(0, 5), dtype=float32),\n",
       "  array([[9.1558113e+01, 1.1925873e+02, 6.3279993e+02, 4.2180325e+02,\n",
       "          7.4925013e-02]], dtype=float32),\n",
       "  array([], shape=(0, 5), dtype=float32),\n",
       "  array([], shape=(0, 5), dtype=float32)],\n",
       " [[],\n",
       "  [],\n",
       "  [],\n",
       "  [],\n",
       "  [],\n",
       "  [],\n",
       "  [],\n",
       "  [],\n",
       "  [],\n",
       "  [],\n",
       "  [],\n",
       "  [],\n",
       "  [],\n",
       "  [],\n",
       "  [],\n",
       "  [array([[False, False, False, ..., False, False, False],\n",
       "          [False, False, False, ..., False, False, False],\n",
       "          [False, False, False, ..., False, False, False],\n",
       "          ...,\n",
       "          [False, False, False, ..., False, False, False],\n",
       "          [False, False, False, ..., False, False, False],\n",
       "          [False, False, False, ..., False, False, False]])],\n",
       "  [array([[False, False, False, ..., False, False, False],\n",
       "          [False, False, False, ..., False, False, False],\n",
       "          [False, False, False, ..., False, False, False],\n",
       "          ...,\n",
       "          [False, False, False, ..., False, False, False],\n",
       "          [False, False, False, ..., False, False, False],\n",
       "          [False, False, False, ..., False, False, False]]),\n",
       "   array([[False, False, False, ..., False, False, False],\n",
       "          [False, False, False, ..., False, False, False],\n",
       "          [False, False, False, ..., False, False, False],\n",
       "          ...,\n",
       "          [False, False, False, ..., False, False, False],\n",
       "          [False, False, False, ..., False, False, False],\n",
       "          [False, False, False, ..., False, False, False]])],\n",
       "  [],\n",
       "  [],\n",
       "  [],\n",
       "  [],\n",
       "  [array([[False, False, False, ..., False, False, False],\n",
       "          [False, False, False, ..., False, False, False],\n",
       "          [False, False, False, ..., False, False, False],\n",
       "          ...,\n",
       "          [False, False, False, ..., False, False, False],\n",
       "          [False, False, False, ..., False, False, False],\n",
       "          [False, False, False, ..., False, False, False]])],\n",
       "  [],\n",
       "  [],\n",
       "  [],\n",
       "  [],\n",
       "  [],\n",
       "  [],\n",
       "  [],\n",
       "  [],\n",
       "  [],\n",
       "  [],\n",
       "  [],\n",
       "  [],\n",
       "  [],\n",
       "  [],\n",
       "  [],\n",
       "  [],\n",
       "  [],\n",
       "  [],\n",
       "  [],\n",
       "  [],\n",
       "  [],\n",
       "  [],\n",
       "  [],\n",
       "  [array([[False, False, False, ..., False, False, False],\n",
       "          [False, False, False, ..., False, False, False],\n",
       "          [False, False, False, ..., False, False, False],\n",
       "          ...,\n",
       "          [False, False, False, ..., False, False, False],\n",
       "          [False, False, False, ..., False, False, False],\n",
       "          [False, False, False, ..., False, False, False]])],\n",
       "  [],\n",
       "  [],\n",
       "  [],\n",
       "  [],\n",
       "  [],\n",
       "  [],\n",
       "  [],\n",
       "  [],\n",
       "  [],\n",
       "  [],\n",
       "  [],\n",
       "  [],\n",
       "  [],\n",
       "  [],\n",
       "  [],\n",
       "  [],\n",
       "  [],\n",
       "  [],\n",
       "  [],\n",
       "  [],\n",
       "  [],\n",
       "  [],\n",
       "  [],\n",
       "  [],\n",
       "  [],\n",
       "  [array([[False, False, False, ..., False, False, False],\n",
       "          [False, False, False, ..., False, False, False],\n",
       "          [False, False, False, ..., False, False, False],\n",
       "          ...,\n",
       "          [False, False, False, ..., False, False, False],\n",
       "          [False, False, False, ..., False, False, False],\n",
       "          [False, False, False, ..., False, False, False]])],\n",
       "  [],\n",
       "  [],\n",
       "  [],\n",
       "  [],\n",
       "  [],\n",
       "  [array([[False, False, False, ..., False, False, False],\n",
       "          [False, False, False, ..., False, False, False],\n",
       "          [False, False, False, ..., False, False, False],\n",
       "          ...,\n",
       "          [False, False, False, ..., False, False, False],\n",
       "          [False, False, False, ..., False, False, False],\n",
       "          [False, False, False, ..., False, False, False]])],\n",
       "  [],\n",
       "  []])"
      ]
     },
     "execution_count": 19,
     "metadata": {},
     "output_type": "execute_result"
    }
   ],
   "source": [
    "inference_detector(det_trt, 'assets/dog.jpg')"
   ]
  },
  {
   "cell_type": "code",
   "execution_count": 16,
   "id": "55c8886b",
   "metadata": {},
   "outputs": [
    {
     "data": {
      "text/plain": [
       "([array([], shape=(0, 5), dtype=float32),\n",
       "  array([], shape=(0, 5), dtype=float32),\n",
       "  array([], shape=(0, 5), dtype=float32),\n",
       "  array([], shape=(0, 5), dtype=float32),\n",
       "  array([], shape=(0, 5), dtype=float32),\n",
       "  array([], shape=(0, 5), dtype=float32),\n",
       "  array([], shape=(0, 5), dtype=float32),\n",
       "  array([], shape=(0, 5), dtype=float32),\n",
       "  array([], shape=(0, 5), dtype=float32),\n",
       "  array([], shape=(0, 5), dtype=float32),\n",
       "  array([], shape=(0, 5), dtype=float32),\n",
       "  array([], shape=(0, 5), dtype=float32),\n",
       "  array([], shape=(0, 5), dtype=float32),\n",
       "  array([], shape=(0, 5), dtype=float32),\n",
       "  array([], shape=(0, 5), dtype=float32),\n",
       "  array([[8.1191345e+01, 1.1784702e+02, 6.4000000e+02, 4.2525021e+02,\n",
       "          6.5555938e-02]], dtype=float32),\n",
       "  array([[9.8559860e+01, 6.8717400e+01, 6.4000000e+02, 4.2486740e+02,\n",
       "          9.1210753e-01],\n",
       "         [1.5698442e+02, 6.7244896e+01, 4.3176617e+02, 2.8106924e+02,\n",
       "          4.4710591e-01]], dtype=float32),\n",
       "  array([], shape=(0, 5), dtype=float32),\n",
       "  array([], shape=(0, 5), dtype=float32),\n",
       "  array([], shape=(0, 5), dtype=float32),\n",
       "  array([], shape=(0, 5), dtype=float32),\n",
       "  array([[9.6449829e+01, 6.3124180e+01, 6.4000000e+02, 4.1077066e+02,\n",
       "          7.2022937e-02]], dtype=float32),\n",
       "  array([], shape=(0, 5), dtype=float32),\n",
       "  array([], shape=(0, 5), dtype=float32),\n",
       "  array([], shape=(0, 5), dtype=float32),\n",
       "  array([], shape=(0, 5), dtype=float32),\n",
       "  array([], shape=(0, 5), dtype=float32),\n",
       "  array([], shape=(0, 5), dtype=float32),\n",
       "  array([], shape=(0, 5), dtype=float32),\n",
       "  array([], shape=(0, 5), dtype=float32),\n",
       "  array([], shape=(0, 5), dtype=float32),\n",
       "  array([], shape=(0, 5), dtype=float32),\n",
       "  array([], shape=(0, 5), dtype=float32),\n",
       "  array([], shape=(0, 5), dtype=float32),\n",
       "  array([], shape=(0, 5), dtype=float32),\n",
       "  array([], shape=(0, 5), dtype=float32),\n",
       "  array([], shape=(0, 5), dtype=float32),\n",
       "  array([], shape=(0, 5), dtype=float32),\n",
       "  array([], shape=(0, 5), dtype=float32),\n",
       "  array([], shape=(0, 5), dtype=float32),\n",
       "  array([], shape=(0, 5), dtype=float32),\n",
       "  array([], shape=(0, 5), dtype=float32),\n",
       "  array([], shape=(0, 5), dtype=float32),\n",
       "  array([], shape=(0, 5), dtype=float32),\n",
       "  array([], shape=(0, 5), dtype=float32),\n",
       "  array([[7.9620922e-01, 2.7581015e+02, 5.3141048e+01, 3.4425238e+02,\n",
       "          6.7762688e-02]], dtype=float32),\n",
       "  array([], shape=(0, 5), dtype=float32),\n",
       "  array([], shape=(0, 5), dtype=float32),\n",
       "  array([], shape=(0, 5), dtype=float32),\n",
       "  array([], shape=(0, 5), dtype=float32),\n",
       "  array([], shape=(0, 5), dtype=float32),\n",
       "  array([], shape=(0, 5), dtype=float32),\n",
       "  array([], shape=(0, 5), dtype=float32),\n",
       "  array([], shape=(0, 5), dtype=float32),\n",
       "  array([], shape=(0, 5), dtype=float32),\n",
       "  array([], shape=(0, 5), dtype=float32),\n",
       "  array([], shape=(0, 5), dtype=float32),\n",
       "  array([], shape=(0, 5), dtype=float32),\n",
       "  array([], shape=(0, 5), dtype=float32),\n",
       "  array([], shape=(0, 5), dtype=float32),\n",
       "  array([], shape=(0, 5), dtype=float32),\n",
       "  array([], shape=(0, 5), dtype=float32),\n",
       "  array([], shape=(0, 5), dtype=float32),\n",
       "  array([], shape=(0, 5), dtype=float32),\n",
       "  array([], shape=(0, 5), dtype=float32),\n",
       "  array([], shape=(0, 5), dtype=float32),\n",
       "  array([], shape=(0, 5), dtype=float32),\n",
       "  array([], shape=(0, 5), dtype=float32),\n",
       "  array([], shape=(0, 5), dtype=float32),\n",
       "  array([], shape=(0, 5), dtype=float32),\n",
       "  array([], shape=(0, 5), dtype=float32),\n",
       "  array([[2.0039436e-01, 2.7956458e+02, 5.3503902e+01, 3.4321524e+02,\n",
       "          6.7710710e-01]], dtype=float32),\n",
       "  array([], shape=(0, 5), dtype=float32),\n",
       "  array([], shape=(0, 5), dtype=float32),\n",
       "  array([], shape=(0, 5), dtype=float32),\n",
       "  array([], shape=(0, 5), dtype=float32),\n",
       "  array([], shape=(0, 5), dtype=float32),\n",
       "  array([[9.1558113e+01, 1.1925873e+02, 6.3279993e+02, 4.2180325e+02,\n",
       "          7.4925013e-02]], dtype=float32),\n",
       "  array([], shape=(0, 5), dtype=float32),\n",
       "  array([], shape=(0, 5), dtype=float32)],\n",
       " [[],\n",
       "  [],\n",
       "  [],\n",
       "  [],\n",
       "  [],\n",
       "  [],\n",
       "  [],\n",
       "  [],\n",
       "  [],\n",
       "  [],\n",
       "  [],\n",
       "  [],\n",
       "  [],\n",
       "  [],\n",
       "  [],\n",
       "  [array([[False, False, False, ..., False, False, False],\n",
       "          [False, False, False, ..., False, False, False],\n",
       "          [False, False, False, ..., False, False, False],\n",
       "          ...,\n",
       "          [False, False, False, ..., False, False, False],\n",
       "          [False, False, False, ..., False, False, False],\n",
       "          [False, False, False, ..., False, False, False]])],\n",
       "  [array([[False, False, False, ..., False, False, False],\n",
       "          [False, False, False, ..., False, False, False],\n",
       "          [False, False, False, ..., False, False, False],\n",
       "          ...,\n",
       "          [False, False, False, ..., False, False, False],\n",
       "          [False, False, False, ..., False, False, False],\n",
       "          [False, False, False, ..., False, False, False]]),\n",
       "   array([[False, False, False, ..., False, False, False],\n",
       "          [False, False, False, ..., False, False, False],\n",
       "          [False, False, False, ..., False, False, False],\n",
       "          ...,\n",
       "          [False, False, False, ..., False, False, False],\n",
       "          [False, False, False, ..., False, False, False],\n",
       "          [False, False, False, ..., False, False, False]])],\n",
       "  [],\n",
       "  [],\n",
       "  [],\n",
       "  [],\n",
       "  [array([[False, False, False, ..., False, False, False],\n",
       "          [False, False, False, ..., False, False, False],\n",
       "          [False, False, False, ..., False, False, False],\n",
       "          ...,\n",
       "          [False, False, False, ..., False, False, False],\n",
       "          [False, False, False, ..., False, False, False],\n",
       "          [False, False, False, ..., False, False, False]])],\n",
       "  [],\n",
       "  [],\n",
       "  [],\n",
       "  [],\n",
       "  [],\n",
       "  [],\n",
       "  [],\n",
       "  [],\n",
       "  [],\n",
       "  [],\n",
       "  [],\n",
       "  [],\n",
       "  [],\n",
       "  [],\n",
       "  [],\n",
       "  [],\n",
       "  [],\n",
       "  [],\n",
       "  [],\n",
       "  [],\n",
       "  [],\n",
       "  [],\n",
       "  [],\n",
       "  [array([[False, False, False, ..., False, False, False],\n",
       "          [False, False, False, ..., False, False, False],\n",
       "          [False, False, False, ..., False, False, False],\n",
       "          ...,\n",
       "          [False, False, False, ..., False, False, False],\n",
       "          [False, False, False, ..., False, False, False],\n",
       "          [False, False, False, ..., False, False, False]])],\n",
       "  [],\n",
       "  [],\n",
       "  [],\n",
       "  [],\n",
       "  [],\n",
       "  [],\n",
       "  [],\n",
       "  [],\n",
       "  [],\n",
       "  [],\n",
       "  [],\n",
       "  [],\n",
       "  [],\n",
       "  [],\n",
       "  [],\n",
       "  [],\n",
       "  [],\n",
       "  [],\n",
       "  [],\n",
       "  [],\n",
       "  [],\n",
       "  [],\n",
       "  [],\n",
       "  [],\n",
       "  [],\n",
       "  [array([[False, False, False, ..., False, False, False],\n",
       "          [False, False, False, ..., False, False, False],\n",
       "          [False, False, False, ..., False, False, False],\n",
       "          ...,\n",
       "          [False, False, False, ..., False, False, False],\n",
       "          [False, False, False, ..., False, False, False],\n",
       "          [False, False, False, ..., False, False, False]])],\n",
       "  [],\n",
       "  [],\n",
       "  [],\n",
       "  [],\n",
       "  [],\n",
       "  [array([[False, False, False, ..., False, False, False],\n",
       "          [False, False, False, ..., False, False, False],\n",
       "          [False, False, False, ..., False, False, False],\n",
       "          ...,\n",
       "          [False, False, False, ..., False, False, False],\n",
       "          [False, False, False, ..., False, False, False],\n",
       "          [False, False, False, ..., False, False, False]])],\n",
       "  [],\n",
       "  []])"
      ]
     },
     "execution_count": 16,
     "metadata": {},
     "output_type": "execute_result"
    }
   ],
   "source": [
    "out"
   ]
  },
  {
   "cell_type": "code",
   "execution_count": 142,
   "id": "f2161946",
   "metadata": {},
   "outputs": [
    {
     "name": "stdout",
     "output_type": "stream",
     "text": [
      "IN\n",
      "[torch.Size([1, 256, 200, 304]), torch.Size([1, 512, 100, 152]), torch.Size([1, 1024, 50, 76]), torch.Size([1, 2048, 25, 38])]\n",
      "OUT\n",
      "torch.Size([1, 256, 200, 304])\n",
      "torch.Size([1, 256, 100, 152])\n",
      "torch.Size([1, 256, 50, 76])\n",
      "torch.Size([1, 256, 25, 38])\n",
      "torch.Size([1, 256, 13, 19])\n",
      "FEAT_STRIDES\n",
      "[4, 8, 16, 32]\n"
     ]
    }
   ],
   "source": [
    "mod = det.neck\n",
    "mod_in = []\n",
    "mod_out = []\n",
    "\n",
    "def mod_track(m, input, output):\n",
    "    mod_in.append(input)\n",
    "    mod_out.append(output)\n",
    "    \n",
    "    \n",
    "hook = mod.register_forward_hook(mod_track)\n",
    "image = cv2.imread(\"assets/dog.jpg\")\n",
    "# image = cv2.resize(image, (1280, 32))\n",
    "width, height = 1216, 800\n",
    "inference_detector(det, image)\n",
    "\n",
    "hook.remove()\n",
    "\n",
    "print(\"IN\")\n",
    "for o in mod_in[0]:\n",
    "    if isinstance(o, tuple):\n",
    "        print([of.shape for of in o])\n",
    "    else:\n",
    "        print(o.shape)\n",
    "        \n",
    "print(\"OUT\")\n",
    "\n",
    "for o in mod_out[0]:\n",
    "    if isinstance(o, (tuple, list)):\n",
    "        print([of.shape for of in o])\n",
    "    else:\n",
    "        print(o.shape)\n",
    "        \n",
    "print(\"FEAT_STRIDES\")\n",
    "print(get_feat_strides(det.cfg))\n",
    "\n",
    "# print(\"NECK IN\")\n",
    "# print(get_neck_input_shapes(det.cfg, height, width))\n",
    "# print(\"BBOX IN\")\n",
    "# print(get_bbox_max_input_shapes(det.cfg))\n",
    "# print(\"MASK IN\")\n",
    "# print(get_mask_max_input_shapes(det.cfg))"
   ]
  },
  {
   "cell_type": "code",
   "execution_count": 130,
   "id": "d2a69485",
   "metadata": {},
   "outputs": [
    {
     "data": {
      "text/plain": [
       "(1344, 800)"
      ]
     },
     "execution_count": 130,
     "metadata": {},
     "output_type": "execute_result"
    }
   ],
   "source": [
    "1344, 800"
   ]
  },
  {
   "cell_type": "code",
   "execution_count": 137,
   "id": "76a68ca6",
   "metadata": {},
   "outputs": [
    {
     "data": {
      "text/plain": [
       "{'bbox': {'min': [[1, 256, 7, 7]],\n",
       "  'max': [[1000, 256, 7, 7]],\n",
       "  'opt': [[1, 256, 7, 7]]},\n",
       " 'neck': {'min': [[1, 256, 64, 80],\n",
       "   [1, 512, 32, 40],\n",
       "   [1, 1024, 16, 20],\n",
       "   [1, 2048, 8, 10]],\n",
       "  'max': [[1, 256, 200, 336],\n",
       "   [1, 512, 100, 168],\n",
       "   [1, 1024, 50, 84],\n",
       "   [1, 2048, 25, 42]],\n",
       "  'opt': [[1, 256, 200, 336],\n",
       "   [1, 512, 100, 168],\n",
       "   [1, 1024, 50, 84],\n",
       "   [1, 2048, 25, 42]]},\n",
       " 'backbone': {'min': [[1, 3, 256, 320]],\n",
       "  'max': [[1, 3, 800, 1344]],\n",
       "  'opt': [[1, 3, 800, 1344]]},\n",
       " 'mask': {'min': [[1, 256, 14, 14]],\n",
       "  'max': [[100, 256, 14, 14]],\n",
       "  'opt': [[1, 256, 14, 14]]}}"
      ]
     },
     "execution_count": 137,
     "metadata": {},
     "output_type": "execute_result"
    }
   ],
   "source": [
    "get_shapes(det.cfg, (256, 320), (800, 1344), (800, 1344))"
   ]
  },
  {
   "cell_type": "code",
   "execution_count": 122,
   "id": "8767cd93",
   "metadata": {},
   "outputs": [
    {
     "name": "stdout",
     "output_type": "stream",
     "text": [
      "14\n",
      "256\n"
     ]
    },
    {
     "data": {
      "text/plain": [
       "{'type': 'StandardRoIHead',\n",
       " 'bbox_roi_extractor': {'type': 'SingleRoIExtractor',\n",
       "  'roi_layer': {'type': 'RoIAlign', 'output_size': 7, 'sampling_ratio': 0},\n",
       "  'out_channels': 256,\n",
       "  'featmap_strides': [4, 8, 16, 32]},\n",
       " 'bbox_head': {'type': 'Shared2FCBBoxHead',\n",
       "  'in_channels': 256,\n",
       "  'fc_out_channels': 1024,\n",
       "  'roi_feat_size': 7,\n",
       "  'num_classes': 80,\n",
       "  'bbox_coder': {'type': 'DeltaXYWHBBoxCoder',\n",
       "   'target_means': [0.0, 0.0, 0.0, 0.0],\n",
       "   'target_stds': [0.1, 0.1, 0.2, 0.2]},\n",
       "  'reg_class_agnostic': False,\n",
       "  'loss_cls': {'type': 'CrossEntropyLoss',\n",
       "   'use_sigmoid': False,\n",
       "   'loss_weight': 1.0},\n",
       "  'loss_bbox': {'type': 'L1Loss', 'loss_weight': 1.0}},\n",
       " 'mask_roi_extractor': {'type': 'SingleRoIExtractor',\n",
       "  'roi_layer': {'type': 'RoIAlign', 'output_size': 14, 'sampling_ratio': 0},\n",
       "  'out_channels': 256,\n",
       "  'featmap_strides': [4, 8, 16, 32]},\n",
       " 'mask_head': {'type': 'FCNMaskHead',\n",
       "  'num_convs': 4,\n",
       "  'in_channels': 256,\n",
       "  'conv_out_channels': 256,\n",
       "  'num_classes': 80,\n",
       "  'loss_mask': {'type': 'CrossEntropyLoss',\n",
       "   'use_mask': True,\n",
       "   'loss_weight': 1.0}},\n",
       " 'train_cfg': None,\n",
       " 'test_cfg': {'score_thr': 0.05,\n",
       "  'nms': {'type': 'nms', 'iou_threshold': 0.5},\n",
       "  'max_per_img': 100,\n",
       "  'mask_thr_binary': 0.5},\n",
       " 'pretrained': None}"
      ]
     },
     "execution_count": 122,
     "metadata": {},
     "output_type": "execute_result"
    }
   ],
   "source": [
    "print(det.cfg['model']['roi_head']['mask_roi_extractor']['roi_layer']['output_size'])\n",
    "print(det.cfg['model']['roi_head']['mask_head']['in_channels'])\n",
    "det.cfg['model']['roi_head']"
   ]
  },
  {
   "cell_type": "code",
   "execution_count": 119,
   "id": "126a4350",
   "metadata": {},
   "outputs": [
    {
     "data": {
      "text/plain": [
       "1000"
      ]
     },
     "execution_count": 119,
     "metadata": {},
     "output_type": "execute_result"
    }
   ],
   "source": [
    "det.cfg['model']['test_cfg']['rpn']['max_per_img']"
   ]
  },
  {
   "cell_type": "code",
   "execution_count": 97,
   "id": "2c3a9437",
   "metadata": {},
   "outputs": [
    {
     "data": {
      "text/plain": [
       "[4, 8, 16, 32]"
      ]
     },
     "execution_count": 97,
     "metadata": {},
     "output_type": "execute_result"
    }
   ],
   "source": [
    "get_feat_strides(det.cfg)"
   ]
  },
  {
   "cell_type": "code",
   "execution_count": 99,
   "id": "854f13f1",
   "metadata": {},
   "outputs": [
    {
     "data": {
      "text/plain": [
       "{'type': 'FPN',\n",
       " 'in_channels': [256, 512, 1024, 2048],\n",
       " 'out_channels': 256,\n",
       " 'num_outs': 5}"
      ]
     },
     "execution_count": 99,
     "metadata": {},
     "output_type": "execute_result"
    }
   ],
   "source": [
    "det.cfg['model']['neck']"
   ]
  },
  {
   "cell_type": "code",
   "execution_count": 96,
   "id": "2b1d496b",
   "metadata": {},
   "outputs": [],
   "source": [
    "from dataclasses import dataclass\n",
    "from typing import Sequence\n",
    "\n",
    "det.cfg['model']\n",
    "\n",
    "feat_strides = det.cfg['model']['roi_head']['bbox_roi_extractor']['featmap_strides']\n",
    "bbox_roi_size = det.cfg['model']['roi_head']['bbox_head']['roi_feat_size']\n",
    "mask_roi_size = det.cfg['model']['roi_head']['mask_roi_extractor']['roi_layer']['output_size']\n",
    "\n",
    "\n",
    "@dataclass\n",
    "class Torch2trtInput:\n",
    "    trace: Sequence[int]\n",
    "    min: Sequence[int]\n",
    "    max: Sequence[int]\n",
    "    opt: Sequence[int]\n",
    "        \n",
    "        \n",
    "def get_feat_strides(cfg):\n",
    "    return cfg['model']['roi_head']['bbox_roi_extractor']['featmap_strides']\n",
    "    \n",
    "def get_rpn_input_shapes(cfg, height, width):\n",
    "    \"\"\"get rpn shapes from backbone width height and config\"\"\"\n",
    "    strides = cfg['model']['rpn_head']['anchor_generator']['strides']\n",
    "    in_channels = cfg['model']['rpn_head']['in_channels']\n",
    "    return [[1, in_channels, height // s, width // s] for s in strides]\n",
    "\n",
    "def get_neck_input_shapes(cfg, height, width):\n",
    "    strides = cfg['model']['roi_head']['bbox_roi_extractor']['featmap_strides']\n",
    "    in_channels = cfg['model']['neck']['in_channels']\n",
    "    return [[1, ic, height // s, width // s] for ic, s in zip(in_channels, strides)]\n",
    "\n",
    "def get_bbox_head_shapes(cfg, height, width):\n",
    "    return get_rpn_shapes(cfg, height, width)\n",
    "\n",
    "def torch2trt_mmdet_instance_seg(detector, opt_shape, max_shape, min_shape):\n",
    "    \n",
    "    \n",
    "    feat_strides = detector.cfg['model']['roi_head']['bbox_roi_extractor']['featmap_strides']\n",
    "    bbox_roi_size = detector.cfg['model']['roi_head']['bbox_head']['roi_feat_size']\n",
    "    mask_roi_size = detector.cfg['model']['roi_head']['mask_roi_extractor']['roi_layer']['output_size']\n",
    "    \n",
    "    # get neck shape\n",
    "    neck_channels = detector.cfg['model']['roi_head']['bbox_roi_extractor']['featmap_strides']\n",
    "    # get rpn shape\n",
    "    rpn_strides = detector.cfg['model']['rpn_head']['anchor_generator']['strides']\n",
    "    rpn_channels = detector.cfg['model']['rpn_head']['in_channels']\n",
    "    rpn_shapes = None\n",
    "    \n",
    "    input_channels\n",
    "    neck_input_channels = [...]\n",
    "    bbox_input_channels = [...]\n",
    "    rpn_shapes = [[1, rpn_in_channels, stride, stride], ...] # x5 anchor gen strides\n",
    "    \n",
    "    \n",
    "    backbone_input_shape = None\n",
    "    neck_input_shape = None\n",
    "    rpn_input_shape = None\n",
    "    bbox_head_input_shape = None\n",
    "    mask_head_input_shape = None"
   ]
  },
  {
   "cell_type": "code",
   "execution_count": 59,
   "id": "e65d0dc1",
   "metadata": {},
   "outputs": [],
   "source": []
  },
  {
   "cell_type": "code",
   "execution_count": 61,
   "id": "9b6d13ea",
   "metadata": {},
   "outputs": [
    {
     "data": {
      "text/plain": [
       "800"
      ]
     },
     "execution_count": 61,
     "metadata": {},
     "output_type": "execute_result"
    }
   ],
   "source": [
    "closest_multiple_gt(, 32)"
   ]
  },
  {
   "cell_type": "code",
   "execution_count": 71,
   "id": "078972bb",
   "metadata": {},
   "outputs": [
    {
     "data": {
      "text/plain": [
       "[[1, 256, 200, 304], [1, 512, 100, 152], [1, 1024, 50, 76], [1, 2048, 25, 38]]"
      ]
     },
     "execution_count": 71,
     "metadata": {},
     "output_type": "execute_result"
    }
   ],
   "source": [
    "get_neck_shapes(det.cfg, 800, 1216)"
   ]
  },
  {
   "cell_type": "code",
   "execution_count": 74,
   "id": "269e1a66",
   "metadata": {},
   "outputs": [
    {
     "data": {
      "text/plain": [
       "[[1, 256, 200, 304],\n",
       " [1, 256, 100, 152],\n",
       " [1, 256, 50, 76],\n",
       " [1, 256, 25, 38],\n",
       " [1, 256, 12, 19]]"
      ]
     },
     "execution_count": 74,
     "metadata": {},
     "output_type": "execute_result"
    }
   ],
   "source": [
    "get_rpn_shapes(det.cfg, 800, 1216)"
   ]
  },
  {
   "cell_type": "code",
   "execution_count": 49,
   "id": "ebdc8750",
   "metadata": {},
   "outputs": [
    {
     "data": {
      "text/plain": [
       "(426, 640, 3)"
      ]
     },
     "execution_count": 49,
     "metadata": {},
     "output_type": "execute_result"
    }
   ],
   "source": [
    "import cv2\n",
    "\n",
    "cv2.imread('assets/dog.jpg').shape"
   ]
  },
  {
   "cell_type": "code",
   "execution_count": 89,
   "id": "11430fe1",
   "metadata": {},
   "outputs": [
    {
     "name": "stdout",
     "output_type": "stream",
     "text": [
      "torch.Size([7, 256, 14, 14])\n",
      "torch.Size([80, 28, 28])\n",
      "torch.Size([80, 28, 28])\n",
      "torch.Size([80, 28, 28])\n",
      "torch.Size([80, 28, 28])\n",
      "torch.Size([80, 28, 28])\n",
      "torch.Size([80, 28, 28])\n",
      "torch.Size([80, 28, 28])\n"
     ]
    },
    {
     "name": "stderr",
     "output_type": "stream",
     "text": [
      "/mmlab/mmdetection/mmdet/datasets/utils.py:66: UserWarning: \"ImageToTensor\" pipeline is replaced by \"DefaultFormatBundle\" for batch inference. It is recommended to manually replace it in the test data pipeline in your config file.\n",
      "  warnings.warn(\n"
     ]
    }
   ],
   "source": [
    "mod = det.roi_head.mask_head\n",
    "mod_in = []\n",
    "mod_out = []\n",
    "\n",
    "def mod_track(m, input, output):\n",
    "    mod_in.append(input)\n",
    "    mod_out.append(output)\n",
    "    \n",
    "    \n",
    "hook = mod.register_forward_hook(mod_track)\n",
    "image = cv2.imread(\"assets/dog.jpg\")\n",
    "# image = cv2.resize(image, (1280, 32))\n",
    "inference_detector(det, image)\n",
    "\n",
    "hook.remove()\n",
    "\n",
    "for o in mod_in[0]:\n",
    "    if isinstance(o, tuple):\n",
    "        print([of.shape for of in o])\n",
    "    else:\n",
    "        print(o.shape)\n",
    "        \n",
    "\n",
    "for o in mod_out[0]:\n",
    "    if isinstance(o, tuple):\n",
    "        print([of.shape for of in o])\n",
    "    else:\n",
    "        print(o.shape)"
   ]
  },
  {
   "cell_type": "code",
   "execution_count": 79,
   "id": "d48698f2",
   "metadata": {},
   "outputs": [
    {
     "ename": "AttributeError",
     "evalue": "'tuple' object has no attribute 'shape'",
     "output_type": "error",
     "traceback": [
      "\u001b[0;31m---------------------------------------------------------------------------\u001b[0m",
      "\u001b[0;31mAttributeError\u001b[0m                            Traceback (most recent call last)",
      "\u001b[0;32m<ipython-input-79-de1b73ae36f3>\u001b[0m in \u001b[0;36m<module>\u001b[0;34m\u001b[0m\n\u001b[0;32m----> 1\u001b[0;31m \u001b[0mmod_out\u001b[0m\u001b[0;34m[\u001b[0m\u001b[0;36m0\u001b[0m\u001b[0;34m]\u001b[0m\u001b[0;34m.\u001b[0m\u001b[0mshape\u001b[0m\u001b[0;34m\u001b[0m\u001b[0;34m\u001b[0m\u001b[0m\n\u001b[0m",
      "\u001b[0;31mAttributeError\u001b[0m: 'tuple' object has no attribute 'shape'"
     ]
    }
   ],
   "source": [
    "mod_out[0]"
   ]
  },
  {
   "cell_type": "code",
   "execution_count": 66,
   "id": "301a5a78",
   "metadata": {},
   "outputs": [
    {
     "data": {
      "text/plain": [
       "{'type': 'MaskRCNN',\n",
       " 'backbone': {'type': 'ResNet',\n",
       "  'depth': 50,\n",
       "  'num_stages': 4,\n",
       "  'out_indices': (0, 1, 2, 3),\n",
       "  'frozen_stages': 1,\n",
       "  'norm_cfg': {'type': 'BN', 'requires_grad': False},\n",
       "  'norm_eval': True,\n",
       "  'style': 'caffe',\n",
       "  'init_cfg': None},\n",
       " 'neck': {'type': 'FPN',\n",
       "  'in_channels': [256, 512, 1024, 2048],\n",
       "  'out_channels': 256,\n",
       "  'num_outs': 5},\n",
       " 'rpn_head': {'type': 'RPNHead',\n",
       "  'in_channels': 256,\n",
       "  'feat_channels': 256,\n",
       "  'anchor_generator': {'type': 'AnchorGenerator',\n",
       "   'scales': [8],\n",
       "   'ratios': [0.5, 1.0, 2.0],\n",
       "   'strides': [4, 8, 16, 32, 64]},\n",
       "  'bbox_coder': {'type': 'DeltaXYWHBBoxCoder',\n",
       "   'target_means': [0.0, 0.0, 0.0, 0.0],\n",
       "   'target_stds': [1.0, 1.0, 1.0, 1.0]},\n",
       "  'loss_cls': {'type': 'CrossEntropyLoss',\n",
       "   'use_sigmoid': True,\n",
       "   'loss_weight': 1.0},\n",
       "  'loss_bbox': {'type': 'L1Loss', 'loss_weight': 1.0}},\n",
       " 'roi_head': {'type': 'StandardRoIHead',\n",
       "  'bbox_roi_extractor': {'type': 'SingleRoIExtractor',\n",
       "   'roi_layer': {'type': 'RoIAlign', 'output_size': 7, 'sampling_ratio': 0},\n",
       "   'out_channels': 256,\n",
       "   'featmap_strides': [4, 8, 16, 32]},\n",
       "  'bbox_head': {'type': 'Shared2FCBBoxHead',\n",
       "   'in_channels': 256,\n",
       "   'fc_out_channels': 1024,\n",
       "   'roi_feat_size': 7,\n",
       "   'num_classes': 80,\n",
       "   'bbox_coder': {'type': 'DeltaXYWHBBoxCoder',\n",
       "    'target_means': [0.0, 0.0, 0.0, 0.0],\n",
       "    'target_stds': [0.1, 0.1, 0.2, 0.2]},\n",
       "   'reg_class_agnostic': False,\n",
       "   'loss_cls': {'type': 'CrossEntropyLoss',\n",
       "    'use_sigmoid': False,\n",
       "    'loss_weight': 1.0},\n",
       "   'loss_bbox': {'type': 'L1Loss', 'loss_weight': 1.0}},\n",
       "  'mask_roi_extractor': {'type': 'SingleRoIExtractor',\n",
       "   'roi_layer': {'type': 'RoIAlign', 'output_size': 14, 'sampling_ratio': 0},\n",
       "   'out_channels': 256,\n",
       "   'featmap_strides': [4, 8, 16, 32]},\n",
       "  'mask_head': {'type': 'FCNMaskHead',\n",
       "   'num_convs': 4,\n",
       "   'in_channels': 256,\n",
       "   'conv_out_channels': 256,\n",
       "   'num_classes': 80,\n",
       "   'loss_mask': {'type': 'CrossEntropyLoss',\n",
       "    'use_mask': True,\n",
       "    'loss_weight': 1.0}},\n",
       "  'train_cfg': None,\n",
       "  'test_cfg': {'score_thr': 0.05,\n",
       "   'nms': {'type': 'nms', 'iou_threshold': 0.5},\n",
       "   'max_per_img': 100,\n",
       "   'mask_thr_binary': 0.5},\n",
       "  'pretrained': None},\n",
       " 'train_cfg': None,\n",
       " 'test_cfg': {'rpn': {'nms_pre': 1000,\n",
       "   'max_per_img': 1000,\n",
       "   'nms': {'type': 'nms', 'iou_threshold': 0.7},\n",
       "   'min_bbox_size': 0},\n",
       "  'rcnn': {'score_thr': 0.05,\n",
       "   'nms': {'type': 'nms', 'iou_threshold': 0.5},\n",
       "   'max_per_img': 100,\n",
       "   'mask_thr_binary': 0.5}}}"
      ]
     },
     "execution_count": 66,
     "metadata": {},
     "output_type": "execute_result"
    }
   ],
   "source": [
    "det.cfg['model']"
   ]
  },
  {
   "cell_type": "code",
   "execution_count": 52,
   "id": "bada07e4",
   "metadata": {},
   "outputs": [
    {
     "data": {
      "text/plain": [
       "1066.6666666666667"
      ]
     },
     "execution_count": 52,
     "metadata": {},
     "output_type": "execute_result"
    }
   ],
   "source": [
    "image = cv2.resize"
   ]
  },
  {
   "cell_type": "code",
   "execution_count": 51,
   "id": "356f6804",
   "metadata": {},
   "outputs": [
    {
     "data": {
      "text/plain": [
       "[{'type': 'LoadImageFromFile'},\n",
       " {'type': 'MultiScaleFlipAug',\n",
       "  'img_scale': (1333, 800),\n",
       "  'flip': False,\n",
       "  'transforms': [{'type': 'Resize', 'keep_ratio': True},\n",
       "   {'type': 'RandomFlip'},\n",
       "   {'type': 'Normalize',\n",
       "    'mean': [103.53, 116.28, 123.675],\n",
       "    'std': [1.0, 1.0, 1.0],\n",
       "    'to_rgb': False},\n",
       "   {'type': 'Pad', 'size_divisor': 32},\n",
       "   {'type': 'ImageToTensor', 'keys': ['img']},\n",
       "   {'type': 'Collect', 'keys': ['img']}]}]"
      ]
     },
     "execution_count": 51,
     "metadata": {},
     "output_type": "execute_result"
    }
   ],
   "source": [
    "det.cfg['test_pipeline']"
   ]
  },
  {
   "cell_type": "code",
   "execution_count": 18,
   "id": "7a294a08",
   "metadata": {},
   "outputs": [],
   "source": [
    "import torch\n",
    "out = det.backbone(torch.randn(1, 3, 256, 256).cuda())"
   ]
  },
  {
   "cell_type": "code",
   "execution_count": 22,
   "id": "6e8bb852",
   "metadata": {},
   "outputs": [
    {
     "data": {
      "text/plain": [
       "(1, 2, 2, 2)"
      ]
     },
     "execution_count": 22,
     "metadata": {},
     "output_type": "execute_result"
    }
   ],
   "source": [
    "det.backbone."
   ]
  },
  {
   "cell_type": "code",
   "execution_count": 20,
   "id": "ba76cc03",
   "metadata": {},
   "outputs": [
    {
     "data": {
      "text/plain": [
       "{'type': 'MaskRCNN',\n",
       " 'backbone': {'type': 'ResNet',\n",
       "  'depth': 50,\n",
       "  'num_stages': 4,\n",
       "  'out_indices': (0, 1, 2, 3),\n",
       "  'frozen_stages': 1,\n",
       "  'norm_cfg': {'type': 'BN', 'requires_grad': False},\n",
       "  'norm_eval': True,\n",
       "  'style': 'caffe',\n",
       "  'init_cfg': None},\n",
       " 'neck': {'type': 'FPN',\n",
       "  'in_channels': [256, 512, 1024, 2048],\n",
       "  'out_channels': 256,\n",
       "  'num_outs': 5},\n",
       " 'rpn_head': {'type': 'RPNHead',\n",
       "  'in_channels': 256,\n",
       "  'feat_channels': 256,\n",
       "  'anchor_generator': {'type': 'AnchorGenerator',\n",
       "   'scales': [8],\n",
       "   'ratios': [0.5, 1.0, 2.0],\n",
       "   'strides': [4, 8, 16, 32, 64]},\n",
       "  'bbox_coder': {'type': 'DeltaXYWHBBoxCoder',\n",
       "   'target_means': [0.0, 0.0, 0.0, 0.0],\n",
       "   'target_stds': [1.0, 1.0, 1.0, 1.0]},\n",
       "  'loss_cls': {'type': 'CrossEntropyLoss',\n",
       "   'use_sigmoid': True,\n",
       "   'loss_weight': 1.0},\n",
       "  'loss_bbox': {'type': 'L1Loss', 'loss_weight': 1.0}},\n",
       " 'roi_head': {'type': 'StandardRoIHead',\n",
       "  'bbox_roi_extractor': {'type': 'SingleRoIExtractor',\n",
       "   'roi_layer': {'type': 'RoIAlign', 'output_size': 7, 'sampling_ratio': 0},\n",
       "   'out_channels': 256,\n",
       "   'featmap_strides': [4, 8, 16, 32]},\n",
       "  'bbox_head': {'type': 'Shared2FCBBoxHead',\n",
       "   'in_channels': 256,\n",
       "   'fc_out_channels': 1024,\n",
       "   'roi_feat_size': 7,\n",
       "   'num_classes': 80,\n",
       "   'bbox_coder': {'type': 'DeltaXYWHBBoxCoder',\n",
       "    'target_means': [0.0, 0.0, 0.0, 0.0],\n",
       "    'target_stds': [0.1, 0.1, 0.2, 0.2]},\n",
       "   'reg_class_agnostic': False,\n",
       "   'loss_cls': {'type': 'CrossEntropyLoss',\n",
       "    'use_sigmoid': False,\n",
       "    'loss_weight': 1.0},\n",
       "   'loss_bbox': {'type': 'L1Loss', 'loss_weight': 1.0}},\n",
       "  'mask_roi_extractor': {'type': 'SingleRoIExtractor',\n",
       "   'roi_layer': {'type': 'RoIAlign', 'output_size': 14, 'sampling_ratio': 0},\n",
       "   'out_channels': 256,\n",
       "   'featmap_strides': [4, 8, 16, 32]},\n",
       "  'mask_head': {'type': 'FCNMaskHead',\n",
       "   'num_convs': 4,\n",
       "   'in_channels': 256,\n",
       "   'conv_out_channels': 256,\n",
       "   'num_classes': 80,\n",
       "   'loss_mask': {'type': 'CrossEntropyLoss',\n",
       "    'use_mask': True,\n",
       "    'loss_weight': 1.0}},\n",
       "  'train_cfg': None,\n",
       "  'test_cfg': {'score_thr': 0.05,\n",
       "   'nms': {'type': 'nms', 'iou_threshold': 0.5},\n",
       "   'max_per_img': 100,\n",
       "   'mask_thr_binary': 0.5},\n",
       "  'pretrained': None},\n",
       " 'train_cfg': None,\n",
       " 'test_cfg': {'rpn': {'nms_pre': 1000,\n",
       "   'max_per_img': 1000,\n",
       "   'nms': {'type': 'nms', 'iou_threshold': 0.7},\n",
       "   'min_bbox_size': 0},\n",
       "  'rcnn': {'score_thr': 0.05,\n",
       "   'nms': {'type': 'nms', 'iou_threshold': 0.5},\n",
       "   'max_per_img': 100,\n",
       "   'mask_thr_binary': 0.5}}}"
      ]
     },
     "execution_count": 20,
     "metadata": {},
     "output_type": "execute_result"
    }
   ],
   "source": [
    "det.cfg['model']"
   ]
  },
  {
   "cell_type": "code",
   "execution_count": 19,
   "id": "cfa40764",
   "metadata": {},
   "outputs": [
    {
     "data": {
      "text/plain": [
       "[torch.Size([1, 256, 64, 64]),\n",
       " torch.Size([1, 512, 32, 32]),\n",
       " torch.Size([1, 1024, 16, 16]),\n",
       " torch.Size([1, 2048, 8, 8])]"
      ]
     },
     "execution_count": 19,
     "metadata": {},
     "output_type": "execute_result"
    }
   ],
   "source": [
    "[o.shape for o in out]"
   ]
  },
  {
   "cell_type": "code",
   "execution_count": 8,
   "id": "7e7eaf33",
   "metadata": {},
   "outputs": [],
   "source": [
    "backbone_data = []\n",
    "\n",
    "def cb_backbone(module, input, output):\n",
    "    backbone_data.append(input)\n",
    "\n",
    "hook = det.backbone.register_forward_hook(cb_backbone)"
   ]
  },
  {
   "cell_type": "code",
   "execution_count": 13,
   "id": "641a873a",
   "metadata": {},
   "outputs": [
    {
     "data": {
      "text/plain": [
       "[{'type': 'LoadImageFromFile'},\n",
       " {'type': 'MultiScaleFlipAug',\n",
       "  'img_scale': (1333, 800),\n",
       "  'flip': False,\n",
       "  'transforms': [{'type': 'Resize', 'keep_ratio': True},\n",
       "   {'type': 'RandomFlip'},\n",
       "   {'type': 'Normalize',\n",
       "    'mean': [103.53, 116.28, 123.675],\n",
       "    'std': [1.0, 1.0, 1.0],\n",
       "    'to_rgb': False},\n",
       "   {'type': 'Pad', 'size_divisor': 32},\n",
       "   {'type': 'ImageToTensor', 'keys': ['img']},\n",
       "   {'type': 'Collect', 'keys': ['img']}]}]"
      ]
     },
     "execution_count": 13,
     "metadata": {},
     "output_type": "execute_result"
    }
   ],
   "source": [
    "det.cfg.test_pipeline"
   ]
  },
  {
   "cell_type": "code",
   "execution_count": 11,
   "id": "5d32120b",
   "metadata": {},
   "outputs": [
    {
     "data": {
      "text/plain": [
       "torch.Size([1, 3, 800, 1216])"
      ]
     },
     "execution_count": 11,
     "metadata": {},
     "output_type": "execute_result"
    }
   ],
   "source": [
    "backbone_data[0][0].shape"
   ]
  },
  {
   "cell_type": "code",
   "execution_count": 9,
   "id": "857292f2",
   "metadata": {},
   "outputs": [
    {
     "data": {
      "text/plain": [
       "([array([], shape=(0, 5), dtype=float32),\n",
       "  array([], shape=(0, 5), dtype=float32),\n",
       "  array([], shape=(0, 5), dtype=float32),\n",
       "  array([], shape=(0, 5), dtype=float32),\n",
       "  array([], shape=(0, 5), dtype=float32),\n",
       "  array([], shape=(0, 5), dtype=float32),\n",
       "  array([], shape=(0, 5), dtype=float32),\n",
       "  array([], shape=(0, 5), dtype=float32),\n",
       "  array([], shape=(0, 5), dtype=float32),\n",
       "  array([], shape=(0, 5), dtype=float32),\n",
       "  array([], shape=(0, 5), dtype=float32),\n",
       "  array([], shape=(0, 5), dtype=float32),\n",
       "  array([], shape=(0, 5), dtype=float32),\n",
       "  array([], shape=(0, 5), dtype=float32),\n",
       "  array([], shape=(0, 5), dtype=float32),\n",
       "  array([[8.0929634e+01, 1.1799213e+02, 6.4000000e+02, 4.2523090e+02,\n",
       "          6.4844467e-02]], dtype=float32),\n",
       "  array([[9.8399818e+01, 6.8688713e+01, 6.4000000e+02, 4.2488736e+02,\n",
       "          9.1171265e-01],\n",
       "         [1.5696581e+02, 6.7235023e+01, 4.3174054e+02, 2.8104599e+02,\n",
       "          4.5043728e-01]], dtype=float32),\n",
       "  array([], shape=(0, 5), dtype=float32),\n",
       "  array([], shape=(0, 5), dtype=float32),\n",
       "  array([], shape=(0, 5), dtype=float32),\n",
       "  array([], shape=(0, 5), dtype=float32),\n",
       "  array([[9.6329788e+01, 6.3123466e+01, 6.4000000e+02, 4.1082428e+02,\n",
       "          7.2027117e-02]], dtype=float32),\n",
       "  array([], shape=(0, 5), dtype=float32),\n",
       "  array([], shape=(0, 5), dtype=float32),\n",
       "  array([], shape=(0, 5), dtype=float32),\n",
       "  array([], shape=(0, 5), dtype=float32),\n",
       "  array([], shape=(0, 5), dtype=float32),\n",
       "  array([], shape=(0, 5), dtype=float32),\n",
       "  array([], shape=(0, 5), dtype=float32),\n",
       "  array([], shape=(0, 5), dtype=float32),\n",
       "  array([], shape=(0, 5), dtype=float32),\n",
       "  array([], shape=(0, 5), dtype=float32),\n",
       "  array([], shape=(0, 5), dtype=float32),\n",
       "  array([], shape=(0, 5), dtype=float32),\n",
       "  array([], shape=(0, 5), dtype=float32),\n",
       "  array([], shape=(0, 5), dtype=float32),\n",
       "  array([], shape=(0, 5), dtype=float32),\n",
       "  array([], shape=(0, 5), dtype=float32),\n",
       "  array([], shape=(0, 5), dtype=float32),\n",
       "  array([], shape=(0, 5), dtype=float32),\n",
       "  array([], shape=(0, 5), dtype=float32),\n",
       "  array([], shape=(0, 5), dtype=float32),\n",
       "  array([], shape=(0, 5), dtype=float32),\n",
       "  array([], shape=(0, 5), dtype=float32),\n",
       "  array([], shape=(0, 5), dtype=float32),\n",
       "  array([[8.0554426e-01, 2.7570578e+02, 5.3168327e+01, 3.4415317e+02,\n",
       "          6.8465576e-02]], dtype=float32),\n",
       "  array([], shape=(0, 5), dtype=float32),\n",
       "  array([], shape=(0, 5), dtype=float32),\n",
       "  array([], shape=(0, 5), dtype=float32),\n",
       "  array([], shape=(0, 5), dtype=float32),\n",
       "  array([], shape=(0, 5), dtype=float32),\n",
       "  array([], shape=(0, 5), dtype=float32),\n",
       "  array([], shape=(0, 5), dtype=float32),\n",
       "  array([], shape=(0, 5), dtype=float32),\n",
       "  array([], shape=(0, 5), dtype=float32),\n",
       "  array([], shape=(0, 5), dtype=float32),\n",
       "  array([], shape=(0, 5), dtype=float32),\n",
       "  array([], shape=(0, 5), dtype=float32),\n",
       "  array([], shape=(0, 5), dtype=float32),\n",
       "  array([], shape=(0, 5), dtype=float32),\n",
       "  array([], shape=(0, 5), dtype=float32),\n",
       "  array([], shape=(0, 5), dtype=float32),\n",
       "  array([], shape=(0, 5), dtype=float32),\n",
       "  array([], shape=(0, 5), dtype=float32),\n",
       "  array([], shape=(0, 5), dtype=float32),\n",
       "  array([], shape=(0, 5), dtype=float32),\n",
       "  array([], shape=(0, 5), dtype=float32),\n",
       "  array([], shape=(0, 5), dtype=float32),\n",
       "  array([], shape=(0, 5), dtype=float32),\n",
       "  array([], shape=(0, 5), dtype=float32),\n",
       "  array([], shape=(0, 5), dtype=float32),\n",
       "  array([[1.9946818e-01, 2.7949478e+02, 5.3535095e+01, 3.4320093e+02,\n",
       "          6.6934627e-01]], dtype=float32),\n",
       "  array([], shape=(0, 5), dtype=float32),\n",
       "  array([], shape=(0, 5), dtype=float32),\n",
       "  array([], shape=(0, 5), dtype=float32),\n",
       "  array([], shape=(0, 5), dtype=float32),\n",
       "  array([], shape=(0, 5), dtype=float32),\n",
       "  array([[9.1308594e+01, 1.1942049e+02, 6.3279718e+02, 4.2178955e+02,\n",
       "          7.4815363e-02]], dtype=float32),\n",
       "  array([], shape=(0, 5), dtype=float32),\n",
       "  array([], shape=(0, 5), dtype=float32)],\n",
       " [[],\n",
       "  [],\n",
       "  [],\n",
       "  [],\n",
       "  [],\n",
       "  [],\n",
       "  [],\n",
       "  [],\n",
       "  [],\n",
       "  [],\n",
       "  [],\n",
       "  [],\n",
       "  [],\n",
       "  [],\n",
       "  [],\n",
       "  [array([[False, False, False, ..., False, False, False],\n",
       "          [False, False, False, ..., False, False, False],\n",
       "          [False, False, False, ..., False, False, False],\n",
       "          ...,\n",
       "          [False, False, False, ..., False, False, False],\n",
       "          [False, False, False, ..., False, False, False],\n",
       "          [False, False, False, ..., False, False, False]])],\n",
       "  [array([[False, False, False, ..., False, False, False],\n",
       "          [False, False, False, ..., False, False, False],\n",
       "          [False, False, False, ..., False, False, False],\n",
       "          ...,\n",
       "          [False, False, False, ..., False, False, False],\n",
       "          [False, False, False, ..., False, False, False],\n",
       "          [False, False, False, ..., False, False, False]]),\n",
       "   array([[False, False, False, ..., False, False, False],\n",
       "          [False, False, False, ..., False, False, False],\n",
       "          [False, False, False, ..., False, False, False],\n",
       "          ...,\n",
       "          [False, False, False, ..., False, False, False],\n",
       "          [False, False, False, ..., False, False, False],\n",
       "          [False, False, False, ..., False, False, False]])],\n",
       "  [],\n",
       "  [],\n",
       "  [],\n",
       "  [],\n",
       "  [array([[False, False, False, ..., False, False, False],\n",
       "          [False, False, False, ..., False, False, False],\n",
       "          [False, False, False, ..., False, False, False],\n",
       "          ...,\n",
       "          [False, False, False, ..., False, False, False],\n",
       "          [False, False, False, ..., False, False, False],\n",
       "          [False, False, False, ..., False, False, False]])],\n",
       "  [],\n",
       "  [],\n",
       "  [],\n",
       "  [],\n",
       "  [],\n",
       "  [],\n",
       "  [],\n",
       "  [],\n",
       "  [],\n",
       "  [],\n",
       "  [],\n",
       "  [],\n",
       "  [],\n",
       "  [],\n",
       "  [],\n",
       "  [],\n",
       "  [],\n",
       "  [],\n",
       "  [],\n",
       "  [],\n",
       "  [],\n",
       "  [],\n",
       "  [],\n",
       "  [array([[False, False, False, ..., False, False, False],\n",
       "          [False, False, False, ..., False, False, False],\n",
       "          [False, False, False, ..., False, False, False],\n",
       "          ...,\n",
       "          [False, False, False, ..., False, False, False],\n",
       "          [False, False, False, ..., False, False, False],\n",
       "          [False, False, False, ..., False, False, False]])],\n",
       "  [],\n",
       "  [],\n",
       "  [],\n",
       "  [],\n",
       "  [],\n",
       "  [],\n",
       "  [],\n",
       "  [],\n",
       "  [],\n",
       "  [],\n",
       "  [],\n",
       "  [],\n",
       "  [],\n",
       "  [],\n",
       "  [],\n",
       "  [],\n",
       "  [],\n",
       "  [],\n",
       "  [],\n",
       "  [],\n",
       "  [],\n",
       "  [],\n",
       "  [],\n",
       "  [],\n",
       "  [],\n",
       "  [array([[False, False, False, ..., False, False, False],\n",
       "          [False, False, False, ..., False, False, False],\n",
       "          [False, False, False, ..., False, False, False],\n",
       "          ...,\n",
       "          [False, False, False, ..., False, False, False],\n",
       "          [False, False, False, ..., False, False, False],\n",
       "          [False, False, False, ..., False, False, False]])],\n",
       "  [],\n",
       "  [],\n",
       "  [],\n",
       "  [],\n",
       "  [],\n",
       "  [array([[False, False, False, ..., False, False, False],\n",
       "          [False, False, False, ..., False, False, False],\n",
       "          [False, False, False, ..., False, False, False],\n",
       "          ...,\n",
       "          [False, False, False, ..., False, False, False],\n",
       "          [False, False, False, ..., False, False, False],\n",
       "          [False, False, False, ..., False, False, False]])],\n",
       "  [],\n",
       "  []])"
      ]
     },
     "execution_count": 9,
     "metadata": {},
     "output_type": "execute_result"
    }
   ],
   "source": [
    "inference_detector(det, \"assets/dog.jpg\")"
   ]
  },
  {
   "cell_type": "code",
   "execution_count": null,
   "id": "81bbda39",
   "metadata": {},
   "outputs": [],
   "source": []
  }
 ],
 "metadata": {
  "kernelspec": {
   "display_name": "Python 3",
   "language": "python",
   "name": "python3"
  },
  "language_info": {
   "codemirror_mode": {
    "name": "ipython",
    "version": 3
   },
   "file_extension": ".py",
   "mimetype": "text/x-python",
   "name": "python",
   "nbconvert_exporter": "python",
   "pygments_lexer": "ipython3",
   "version": "3.8.8"
  }
 },
 "nbformat": 4,
 "nbformat_minor": 5
}
